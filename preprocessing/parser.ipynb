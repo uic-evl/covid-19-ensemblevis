{
 "cells": [
  {
   "cell_type": "code",
   "execution_count": null,
   "id": "global-reviewer",
   "metadata": {},
   "outputs": [],
   "source": [
    "import geopandas as gpd\n",
    "import pandas as pd\n",
    "import numpy as np\n",
    "import glob\n",
    "import epiweeks\n",
    "import os\n",
    "import math\n",
    "\n",
    "from datetime import datetime\n",
    "from tqdm.notebook import trange, tqdm"
   ]
  },
  {
   "cell_type": "code",
   "execution_count": null,
   "id": "hazardous-realtor",
   "metadata": {},
   "outputs": [],
   "source": [
    "weeks_ahead = 2\n",
    "first_prediction_week = epiweeks.Week.fromdate(datetime.strptime('2020-01-22', '%Y-%m-%d'))\n",
    "last_prediction_week = epiweeks.Week.fromdate(datetime.strptime('2021-06-28', '%Y-%m-%d'))"
   ]
  },
  {
   "cell_type": "markdown",
   "id": "necessary-bronze",
   "metadata": {},
   "source": [
    "# Confirmed cases (groundtruth)"
   ]
  },
  {
   "cell_type": "code",
   "execution_count": null,
   "id": "accomplished-government",
   "metadata": {},
   "outputs": [],
   "source": [
    "dtype = {'date': 'string', 'location': 'string', 'location_name': 'string', 'value': 'float'}\n",
    "confirmed = pd.read_csv('../covid19-forecast-hub/data-truth/truth-Incident Cases.csv', dtype=dtype)\n",
    "confirmed['location'].replace({'US': 0},inplace=True)\n",
    "confirmed['location'] = confirmed['location'].astype('int64')\n",
    "confirmed['date'] = pd.to_datetime(confirmed['date']).dt.date\n",
    "\n",
    "confirmed = confirmed[confirmed['location'] >= 999] # only consider counties"
   ]
  },
  {
   "cell_type": "code",
   "execution_count": null,
   "id": "decent-giving",
   "metadata": {},
   "outputs": [],
   "source": [
    "locations = confirmed['location'].unique()\n",
    "rows = []\n",
    "for loc in tqdm(locations):\n",
    "    currweek = first_prediction_week\n",
    "    while currweek <= last_prediction_week:\n",
    "        week = currweek + weeks_ahead\n",
    "        aux = confirmed[confirmed['location']==loc]\n",
    "        sumcases = aux[(aux['date'] >= week.startdate()) & (aux['date'] <= week.enddate())]['value'].sum()\n",
    "        rows.append({'location': loc, 'week': int(week.cdcformat()), 'start_date': week.startdate(), 'end_date': week.enddate(), 'sum': sumcases})\n",
    "        currweek += 1\n",
    "groundtruth = pd.DataFrame(rows)\n",
    "groundtruth = groundtruth.set_index(['location', 'week'])\n",
    "groundtruth = groundtruth.sort_index()"
   ]
  },
  {
   "cell_type": "markdown",
   "id": "cross-petersburg",
   "metadata": {},
   "source": [
    "# Predictions"
   ]
  },
  {
   "cell_type": "code",
   "execution_count": null,
   "id": "liberal-consolidation",
   "metadata": {},
   "outputs": [],
   "source": [
    "paths = glob.glob('../../covid19-forecast-hub/data-processed/*/')\n",
    "models = []\n",
    "for path in paths:\n",
    "    path = os.path.normpath(path)\n",
    "    tks = path.split(os.sep)\n",
    "    model = tks[-1]\n",
    "    models.append(model)"
   ]
  },
  {
   "cell_type": "code",
   "execution_count": null,
   "id": "considerable-belly",
   "metadata": {},
   "outputs": [],
   "source": [
    "predictions = {}\n",
    "for model in tqdm(models):\n",
    "    df = pd.DataFrame()\n",
    "    files = sorted(glob.glob('../../covid19-forecast-hub/data-processed/%s/*.csv'%model))\n",
    "    for file in files:\n",
    "        dtype = {'forecast_date': 'string', 'quantile': 'float', 'location': 'string', 'target_end_date': 'string', 'type': 'string'}\n",
    "        curr = pd.read_csv(file, dtype=dtype)\n",
    "        curr['location'].replace({'US': 0},inplace=True)\n",
    "        curr['location'] = curr['location'].astype('int64')\n",
    "        curr['forecast_date'] = pd.to_datetime(curr['forecast_date']).dt.date\n",
    "        curr['target_end_date'] = pd.to_datetime(curr['target_end_date']).dt.date\n",
    "        curr = curr[curr['target']=='%d wk ahead inc case'%weeks_ahead]\n",
    "        curr = curr[curr['location'] >= 1000] # only consider counties\n",
    "        curr = curr[curr['type'] == 'point'] # only point predictions\n",
    "        df = df.append(curr)        \n",
    "     \n",
    "    if(len(df) > 0):\n",
    "        df['week'] = df['target_end_date'].apply(epiweeks.Week.fromdate).apply(epiweeks.Week.cdcformat).astype('int')\n",
    "        df = df.set_index(['location', 'week'])\n",
    "        df = df.sort_index()\n",
    "        predictions[model] = df\n",
    "        print(model, len(df))"
   ]
  },
  {
   "cell_type": "markdown",
   "id": "respiratory-wichita",
   "metadata": {},
   "source": [
    "# Computing errors"
   ]
  },
  {
   "cell_type": "code",
   "execution_count": null,
   "id": "hydraulic-twelve",
   "metadata": {},
   "outputs": [],
   "source": [
    "for model in tqdm(predictions):\n",
    "    df = predictions[model]\n",
    "    print(model)\n",
    "    absdiffs = []\n",
    "    for index, row in df.iterrows():\n",
    "        location = index[0]\n",
    "        week = index[1]\n",
    "        if (location, week) in groundtruth.index:\n",
    "            gt = groundtruth.loc[(location, week)]\n",
    "            absdiff = row['value'] - gt['sum']\n",
    "            absdiffs.append(absdiff)\n",
    "        else:\n",
    "            absdiffs.append(float('nan'))\n",
    "    predictions[model]['diff'] = absdiffs\n",
    "\n",
    "for model in predictions:\n",
    "    predictions[model].dropna(subset=['diff'],inplace=True)"
   ]
  },
  {
   "cell_type": "markdown",
   "id": "serious-arbitration",
   "metadata": {},
   "source": [
    "# Remove duplicates (keep last)"
   ]
  },
  {
   "cell_type": "code",
   "execution_count": null,
   "id": "pregnant-description",
   "metadata": {},
   "outputs": [],
   "source": [
    "for model in tqdm(predictions):\n",
    "    predictions[model] = predictions[model][~predictions[model].index.duplicated(keep='last')]"
   ]
  },
  {
   "cell_type": "markdown",
   "id": "capital-motel",
   "metadata": {},
   "source": [
    "# Weights and eligibility"
   ]
  },
  {
   "cell_type": "code",
   "execution_count": null,
   "id": "sexual-adolescent",
   "metadata": {},
   "outputs": [],
   "source": [
    "for model in predictions:\n",
    "    predictions[model]['weight'] = 0.0\n",
    "    predictions[model]['eligibility'] = False"
   ]
  },
  {
   "cell_type": "code",
   "execution_count": null,
   "id": "applicable-investing",
   "metadata": {},
   "outputs": [],
   "source": [
    "files = sorted(glob.glob('../../covid19-forecast-hub/ensemble-metadata/*-inc_case-model-weights.csv'))\n",
    "for file in tqdm(files):\n",
    "    date = os.path.basename(file)\n",
    "    date = date[:date.find('-inc')]\n",
    "    week = int(epiweeks.Week.fromdate(datetime.strptime(date, '%Y-%m-%d')).cdcformat())\n",
    "    df = pd.read_csv(file)\n",
    "    aux = 'location'\n",
    "    if 'locations' in df:\n",
    "        aux = 'locations'\n",
    "    df[aux].replace({'US': 0},inplace=True)\n",
    "    df[aux] = df[aux].astype('int64')\n",
    "    df = df[df[aux] >= 1000] # only consider counties\n",
    "    \n",
    "    for index, row in df.iterrows():\n",
    "        location = row[aux]\n",
    "        for model in predictions:\n",
    "            if (model in df.columns) and ((location,week,week) in predictions[model].index):\n",
    "                weight = row[model]\n",
    "                predictions[model].loc[(location,week,week),'weight'] = weight"
   ]
  },
  {
   "cell_type": "code",
   "execution_count": null,
   "id": "adjusted-arthritis",
   "metadata": {
    "scrolled": true
   },
   "outputs": [],
   "source": [
    "files = sorted(glob.glob('../../covid19-forecast-hub/ensemble-metadata/*-inc_case-model-eligibility.csv'))\n",
    "for file in tqdm(files):\n",
    "    date = os.path.basename(file)\n",
    "    date = date[:date.find('-inc')]\n",
    "    week = int(epiweeks.Week.fromdate(datetime.strptime(date, '%Y-%m-%d')).cdcformat())\n",
    "    df = pd.read_csv(file, dtype={'location': 'string'})\n",
    "    aux = 'location'\n",
    "    if 'locations' in df:\n",
    "        aux = 'locations'\n",
    "    df[aux].replace({'US': 0},inplace=True)\n",
    "    df[aux] = df[aux].astype('int64')\n",
    "    df = df[df[aux] >= 1000] # only consider counties\n",
    "    \n",
    "    for index, row in df.iterrows():\n",
    "        location = row[aux]\n",
    "        model = row['model']\n",
    "        eligibility = row['overall_eligibility']\n",
    "        if (model in predictions) and ((location,week,week) in predictions[model].index):\n",
    "            if eligibility == 'eligible':\n",
    "                predictions[model].loc[(location,week,week),'eligibility'] = True"
   ]
  },
  {
   "cell_type": "markdown",
   "id": "mental-header",
   "metadata": {},
   "source": [
    "# Saving"
   ]
  },
  {
   "cell_type": "code",
   "execution_count": null,
   "id": "amber-welsh",
   "metadata": {},
   "outputs": [],
   "source": [
    "for model in predictions:\n",
    "    predictions[model].to_pickle('%d-week/%s.pkl'%(weeks_ahead,model))"
   ]
  },
  {
   "cell_type": "code",
   "execution_count": null,
   "id": "efficient-municipality",
   "metadata": {},
   "outputs": [],
   "source": [
    "groundtruth.to_pickle('%d-week/groundtruth.pkl'%(weeks_ahead))"
   ]
  },
  {
   "cell_type": "markdown",
   "id": "bright-millennium",
   "metadata": {},
   "source": [
    "# JSON"
   ]
  },
  {
   "cell_type": "code",
   "execution_count": null,
   "id": "owned-brooks",
   "metadata": {},
   "outputs": [],
   "source": [
    "paths = glob.glob('./%d-week/*'%weeks_ahead)\n",
    "models = []\n",
    "for path in paths:\n",
    "    path = os.path.normpath(path)\n",
    "    tks = path.split(os.sep)\n",
    "    model = tks[-1].split('.')[0]\n",
    "    if model != 'groundtruth':\n",
    "        models.append(model)"
   ]
  },
  {
   "cell_type": "code",
   "execution_count": null,
   "id": "necessary-reproduction",
   "metadata": {},
   "outputs": [],
   "source": [
    "predictions = {}\n",
    "for model in models:\n",
    "    predictions[model] = pd.read_pickle('%d-week/%s.pkl'%(weeks_ahead,model))\n",
    "    \n",
    "groundtruth = pd.read_pickle('%d-week/groundtruth.pkl'%weeks_ahead)"
   ]
  },
  {
   "cell_type": "code",
   "execution_count": null,
   "id": "sharing-thriller",
   "metadata": {},
   "outputs": [],
   "source": [
    "first_week = predictions['COVIDhub-baseline'].iloc[0][['forecast_date']]\n",
    "num_weeks = predictions['COVIDhub-baseline'].iloc[-1]['forecast_date'] - first_week\n",
    "num_weeks = int(num_weeks[0].days / 7)"
   ]
  },
  {
   "cell_type": "code",
   "execution_count": null,
   "id": "biological-booth",
   "metadata": {},
   "outputs": [],
   "source": [
    "# Ensemble json\n",
    "modelsdict = {}\n",
    "for model in models:\n",
    "    if model not in modelsdict:\n",
    "        modelsdict[model] = {}\n",
    "    for index, row in predictions[model].iterrows():\n",
    "        location = str(index[0])\n",
    "        week = row['forecast_date']\n",
    "        value = row['value']\n",
    "        diff = row['diff']\n",
    "\n",
    "        if location not in modelsdict[model]:\n",
    "            modelsdict[model][location] = [{'value': 'NaN', 'diff': 'NaN'}] * (num_weeks+1)\n",
    "        week_index = (week - first_week)\n",
    "        week_index = math.ceil(week_index[0].days/7)\n",
    "        modelsdict[model][location][week_index] = {'value': value, 'diff': diff}"
   ]
  },
  {
   "cell_type": "code",
   "execution_count": null,
   "id": "earned-photographer",
   "metadata": {},
   "outputs": [],
   "source": [
    "import json\n",
    "with open('../vis/src/assets/models.json', 'w') as f:\n",
    "    json.dump(modelsdict, f, separators=(',', ':'))"
   ]
  },
  {
   "cell_type": "code",
   "execution_count": null,
   "id": "divided-shoulder",
   "metadata": {},
   "outputs": [],
   "source": [
    "population = pd.read_csv('../../covid19-forecast-hub/data-locations/locations.csv')\n",
    "population['location'].replace({'US': 0},inplace=True)\n",
    "population['location'] = population['location'].astype('int64')\n",
    "population['population'].sum()"
   ]
  },
  {
   "cell_type": "code",
   "execution_count": null,
   "id": "republican-bernard",
   "metadata": {},
   "outputs": [],
   "source": [
    "pop = {}\n",
    "for index, row in population.dropna(subset=['population']).iterrows():\n",
    "    location = row['location']\n",
    "    value = int(row['population'])\n",
    "    pop[location] = value\n",
    "    \n",
    "with open('../vis/src/assets/population.json', 'w') as f:\n",
    "    json.dump(pop, f, separators=(',', ':'))"
   ]
  }
 ],
 "metadata": {
  "kernelspec": {
   "display_name": "Python 3",
   "language": "python",
   "name": "python3"
  },
  "language_info": {
   "codemirror_mode": {
    "name": "ipython",
    "version": 3
   },
   "file_extension": ".py",
   "mimetype": "text/x-python",
   "name": "python",
   "nbconvert_exporter": "python",
   "pygments_lexer": "ipython3",
   "version": "3.7.6"
  }
 },
 "nbformat": 4,
 "nbformat_minor": 5
}
